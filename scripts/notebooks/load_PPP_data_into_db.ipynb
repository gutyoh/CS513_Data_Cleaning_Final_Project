{
 "cells": [
  {
   "cell_type": "markdown",
   "metadata": {
    "collapsed": false
   },
   "source": [
    "# 1.3 Python data loading into SQLite database steps\n",
    "\n",
    "In this notebook we'll load the final cleaned dataset `PPP-Data-up-to-150k-080820-HI-OpenRefine-PythonCleaned.csv` into a SQLite database.\n",
    "\n",
    "We will use libraries like `pandas` for data manipulation and `sqlite3` for loading the data into the `PPP.db` SQLite database."
   ]
  },
  {
   "cell_type": "code",
   "execution_count": 9,
   "metadata": {
    "collapsed": false,
    "ExecuteTime": {
     "end_time": "2023-07-27T21:00:37.089110800Z",
     "start_time": "2023-07-27T21:00:37.041969Z"
    }
   },
   "outputs": [],
   "source": [
    "# Import necessary libraries\n",
    "import sqlite3\n",
    "import pandas as pd\n",
    "import time\n",
    "\n",
    "# Create a timer to time the execution of all steps\n",
    "start = time.time()"
   ]
  },
  {
   "cell_type": "markdown",
   "metadata": {
    "collapsed": false
   },
   "source": [
    "### Step 1: Load the data\n",
    "\n",
    "First, we’ll load the final cleaned dataset `PPP-Data-up-to-150k-080820-HI-OpenRefine-PythonCleaned.csv` into a pandas DataFrame.\n",
    "\n",
    "An important detail is that we specify the `NAICSCode` column values as `string` type so Python correctly interprets the NAICS codes as categorical identifiers and not as numerical values."
   ]
  },
  {
   "cell_type": "code",
   "execution_count": 10,
   "metadata": {
    "collapsed": false,
    "ExecuteTime": {
     "end_time": "2023-07-27T21:00:37.142731600Z",
     "start_time": "2023-07-27T21:00:37.047004Z"
    }
   },
   "outputs": [
    {
     "name": "stdout",
     "output_type": "stream",
     "text": [
      "Step #1 -- Loaded the cleaned dataset, took 0.064 seconds\n"
     ]
    }
   ],
   "source": [
    "# Step 1: Load the data with 'NAICSCode' specified as str\n",
    "df = pd.read_csv('../../data/cleaned/PPP-Data-up-to-150k-080820-HI-OpenRefine-PythonCleaned.csv', dtype={'NAICSCode': str})\n",
    "print(f\"Step #1 -- Loaded the cleaned dataset, took {time.time() - start:.3f} seconds\")"
   ]
  },
  {
   "cell_type": "markdown",
   "metadata": {
    "collapsed": false
   },
   "source": [
    "### Step 2: Create the connection to the SQLite database."
   ]
  },
  {
   "cell_type": "code",
   "execution_count": 11,
   "metadata": {
    "collapsed": false,
    "ExecuteTime": {
     "end_time": "2023-07-27T21:00:37.143738600Z",
     "start_time": "2023-07-27T21:00:37.113719900Z"
    }
   },
   "outputs": [
    {
     "name": "stdout",
     "output_type": "stream",
     "text": [
      "Step #2 -- Created the connection to the `PPP.db` SQLite database, took 0.071 seconds\n"
     ]
    }
   ],
   "source": [
    "# If the SQLite database file does not exist, it will be created\n",
    "conn = sqlite3.connect('../../data/database/PPP.db')\n",
    "\n",
    "# Create the cursor\n",
    "cur = conn.cursor()\n",
    "print(f\"Step #2 -- Created the connection to the `PPP.db` SQLite database, took {time.time() - start:.3f} seconds\")"
   ]
  },
  {
   "cell_type": "markdown",
   "metadata": {
    "collapsed": false
   },
   "source": [
    "### Step 3: Execute SQL commands to create the tables in the database."
   ]
  },
  {
   "cell_type": "code",
   "execution_count": 12,
   "metadata": {
    "collapsed": false,
    "ExecuteTime": {
     "end_time": "2023-07-27T21:00:37.216883700Z",
     "start_time": "2023-07-27T21:00:37.119159500Z"
    }
   },
   "outputs": [
    {
     "name": "stdout",
     "output_type": "stream",
     "text": [
      "Created the `Addresses` table, took 0.096 seconds\n",
      "Created the `Demographics` table, took 0.109 seconds\n",
      "Created the BusinessTypes table, took 0.125 seconds\n",
      "Created the `Industries` table, took 0.138 seconds\n",
      "Created the `Loans` table, took 0.154 seconds\n",
      "Step #3 -- Created all tables for the `PPP.db` SQLite database, took 0.154 seconds\n"
     ]
    }
   ],
   "source": [
    "# If the tables already exist, they are dropped and recreated\n",
    "cur.execute('DROP TABLE IF EXISTS Addresses;')\n",
    "cur.execute('''\n",
    "CREATE TABLE IF NOT EXISTS Addresses (\n",
    "    ID INTEGER PRIMARY KEY,\n",
    "    City TEXT NOT NULL,\n",
    "    State TEXT NOT NULL,\n",
    "    Zip TEXT NOT NULL\n",
    ");\n",
    "''')\n",
    "print(f\"Created the `Addresses` table, took {time.time() - start:.3f} seconds\")\n",
    "\n",
    "cur.execute('DROP TABLE IF EXISTS Demographics;')\n",
    "cur.execute('''\n",
    "CREATE TABLE IF NOT EXISTS Demographics (\n",
    "    ID INTEGER PRIMARY KEY,\n",
    "    Gender TEXT NOT NULL,\n",
    "    RaceEthnicity TEXT NOT NULL,\n",
    "    Veteran TEXT NOT NULL\n",
    ");\n",
    "''')\n",
    "print(f\"Created the `Demographics` table, took {time.time() - start:.3f} seconds\")\n",
    "\n",
    "cur.execute('DROP TABLE IF EXISTS BusinessTypes;')\n",
    "cur.execute('''\n",
    "CREATE TABLE IF NOT EXISTS BusinessTypes (\n",
    "    ID INTEGER PRIMARY KEY,\n",
    "    BusinessType TEXT NOT NULL,\n",
    "    NonProfit BOOLEAN NOT NULL\n",
    ");\n",
    "''')\n",
    "print(f\"Created the BusinessTypes table, took {time.time() - start:.3f} seconds\")\n",
    "\n",
    "cur.execute('DROP TABLE IF EXISTS Industries;')\n",
    "cur.execute('''\n",
    "CREATE TABLE IF NOT EXISTS Industries (\n",
    "    ID INTEGER PRIMARY KEY,\n",
    "    NAICSCode TEXT,\n",
    "    NAICSTitle TEXT\n",
    ");\n",
    "''')\n",
    "print(f\"Created the `Industries` table, took {time.time() - start:.3f} seconds\")\n",
    "\n",
    "cur.execute('DROP TABLE IF EXISTS Loans;')\n",
    "cur.execute('''\n",
    "CREATE TABLE IF NOT EXISTS Loans (\n",
    "    ID INTEGER PRIMARY KEY,\n",
    "    LoanAmount REAL NOT NULL,\n",
    "    JobsReported INTEGER,\n",
    "    DateApproved TEXT NOT NULL,\n",
    "    Lender TEXT NOT NULL,\n",
    "    CD TEXT NOT NULL,\n",
    "    AddressID INTEGER NOT NULL,\n",
    "    DemographicID INTEGER NOT NULL,\n",
    "    BusinessTypeID INTEGER NOT NULL,\n",
    "    IndustryID INTEGER NOT NULL,\n",
    "    FOREIGN KEY (AddressID) REFERENCES Addresses (ID),\n",
    "    FOREIGN KEY (DemographicID) REFERENCES Demographics (ID),\n",
    "    FOREIGN KEY (BusinessTypeID) REFERENCES BusinessTypes (ID),\n",
    "    FOREIGN KEY (IndustryID) REFERENCES Industries (ID)\n",
    ");\n",
    "''')\n",
    "print(f\"Created the `Loans` table, took {time.time() - start:.3f} seconds\")\n",
    "\n",
    "# Commit the changes\n",
    "conn.commit()\n",
    "print(f\"Step #3 -- Created all tables for the `PPP.db` SQLite database, took {time.time() - start:.3f} seconds\")"
   ]
  },
  {
   "cell_type": "markdown",
   "metadata": {
    "collapsed": false
   },
   "source": [
    "### Step 4: Split the original DataFrame into separate DataFrames for each table."
   ]
  },
  {
   "cell_type": "code",
   "execution_count": 13,
   "metadata": {
    "collapsed": false,
    "ExecuteTime": {
     "end_time": "2023-07-27T21:00:37.306534500Z",
     "start_time": "2023-07-27T21:00:37.206855500Z"
    }
   },
   "outputs": [
    {
     "name": "stdout",
     "output_type": "stream",
     "text": [
      "Inserted 119 rows into the `Addresses` table, took 0.177 seconds\n",
      "Inserted 42 rows into the `Demographics` table, took 0.194 seconds\n",
      "Inserted 15 rows into the `BusinessTypes` table, took 0.205 seconds\n",
      "Inserted 756 rows into the `Industries` table, took 0.216 seconds\n",
      "Step #4 -- Inserted data into `Addresses`, `Demographics`, `BusinessTypes`, and `Industries` tables\n"
     ]
    }
   ],
   "source": [
    "# Remove duplicates and reset the index to create a new 'ID' column.\n",
    "# Then insert the data into the corresponding table in the SQLite database.\n",
    "\n",
    "# Addresses table\n",
    "addresses = df[['City', 'State', 'Zip']].drop_duplicates()\n",
    "addresses.reset_index(inplace=True, drop=True)\n",
    "addresses['ID'] = addresses.index + 1\n",
    "addresses.to_sql('Addresses', conn, if_exists='append', index=False)\n",
    "print(f\"Inserted {len(addresses)} rows into the `Addresses` table, took {time.time() - start:.3f} seconds\")\n",
    "\n",
    "# Demographics table\n",
    "demographics = df[['Gender', 'RaceEthnicity', 'Veteran']].drop_duplicates()\n",
    "demographics.reset_index(inplace=True, drop=True)\n",
    "demographics['ID'] = demographics.index + 1\n",
    "demographics.to_sql('Demographics', conn, if_exists='append', index=False)\n",
    "print(f\"Inserted {len(demographics)} rows into the `Demographics` table, took {time.time() - start:.3f} seconds\")\n",
    "\n",
    "# BusinessTypes table\n",
    "businesstypes = df[['BusinessType', 'NonProfit']].drop_duplicates()\n",
    "businesstypes.reset_index(inplace=True, drop=True)\n",
    "businesstypes['ID'] = businesstypes.index + 1\n",
    "businesstypes.to_sql('BusinessTypes', conn, if_exists='append', index=False)\n",
    "print(f\"Inserted {len(businesstypes)} rows into the `BusinessTypes` table, took {time.time() - start:.3f} seconds\")\n",
    "\n",
    "# Industries table\n",
    "industries = df[['NAICSCode', 'NAICSTitle']].drop_duplicates()\n",
    "industries.reset_index(inplace=True, drop=True)\n",
    "industries['ID'] = industries.index + 1\n",
    "industries.to_sql('Industries', conn, if_exists='append', index=False)\n",
    "print(f\"Inserted {len(industries)} rows into the `Industries` table, took {time.time() - start:.3f} seconds\")\n",
    "\n",
    "print(f\"Step #4 -- Inserted data into `Addresses`, `Demographics`, `BusinessTypes`, and `Industries` tables\")"
   ]
  },
  {
   "cell_type": "markdown",
   "metadata": {
    "collapsed": false
   },
   "source": [
    "### Step 5: Merge on `key` to get `AddressID`, `DemographicID`, `BusinessTypeID` and `IndustryID` in the original dataframe"
   ]
  },
  {
   "cell_type": "code",
   "execution_count": 14,
   "metadata": {
    "collapsed": false,
    "ExecuteTime": {
     "end_time": "2023-07-27T21:00:37.732069700Z",
     "start_time": "2023-07-27T21:00:37.265783Z"
    }
   },
   "outputs": [
    {
     "name": "stdout",
     "output_type": "stream",
     "text": [
      "Step #5 -- Merged keys to get `AddressID`, `DemographicID`, `BusinessTypeID` and `IndustryID` in cleaned dataframe, took 0.666 seconds\n"
     ]
    }
   ],
   "source": [
    "# Create a 'key' column in the original DataFrame and the other DataFrames\n",
    "# This 'key' is a tuple of the columns being matched on\n",
    "df['key'] = df[['City', 'State', 'Zip']].apply(tuple, axis=1)\n",
    "addresses['key'] = addresses[['City', 'State', 'Zip']].apply(tuple, axis=1)\n",
    "\n",
    "# Merge on 'key' to get 'AddressID'\n",
    "df = df.merge(addresses[['key', 'ID']], on='key', how='left')\n",
    "\n",
    "# Rename 'ID' to 'AddressID'\n",
    "df.rename(columns={'ID': 'AddressID'}, inplace=True)\n",
    "\n",
    "# Create a 'key' column in the Demographics df and merge on 'key' to get 'DemographicID'\n",
    "df['key'] = df[['Gender', 'RaceEthnicity', 'Veteran']].apply(tuple, axis=1)\n",
    "demographics['key'] = demographics[['Gender', 'RaceEthnicity', 'Veteran']].apply(tuple, axis=1)\n",
    "df = df.merge(demographics[['key', 'ID']], on='key', how='left')\n",
    "df.rename(columns={'ID': 'DemographicID'}, inplace=True)\n",
    "\n",
    "# Create a 'key' column in the BusinessTypes df and merge on 'key' to get 'BusinessTypeID'\n",
    "df['key'] = df[['BusinessType', 'NonProfit']].apply(tuple, axis=1)\n",
    "businesstypes['key'] = businesstypes[['BusinessType', 'NonProfit']].apply(tuple, axis=1)\n",
    "df = df.merge(businesstypes[['key', 'ID']], on='key', how='left')\n",
    "df.rename(columns={'ID': 'BusinessTypeID'}, inplace=True)\n",
    "\n",
    "# Create a 'key' column in the Industries df and merge on 'key' to get 'IndustryID'\n",
    "df['key'] = df[['NAICSCode', 'NAICSTitle']].apply(tuple, axis=1)\n",
    "industries['key'] = industries[['NAICSCode', 'NAICSTitle']].apply(tuple, axis=1)\n",
    "df = df.merge(industries[['key', 'ID']], on='key', how='left')\n",
    "df.rename(columns={'ID': 'IndustryID'}, inplace=True)\n",
    "\n",
    "# Now that the merging is done, we can drop the 'key' column\n",
    "df.drop(columns='key', inplace=True)\n",
    "\n",
    "print(f\"Step #5 -- Merged keys to get `AddressID`, `DemographicID`, `BusinessTypeID` and `IndustryID` \"\n",
    "      f\"in cleaned dataframe, took {time.time() - start:.3f} seconds\")"
   ]
  },
  {
   "cell_type": "markdown",
   "metadata": {
    "collapsed": false
   },
   "source": [
    "### Step 6: Create a new `loans` DataFrame with the required columns and insert the data from it into the `Loans` table"
   ]
  },
  {
   "cell_type": "code",
   "execution_count": 15,
   "metadata": {
    "collapsed": false,
    "ExecuteTime": {
     "end_time": "2023-07-27T21:00:37.791929500Z",
     "start_time": "2023-07-27T21:00:37.714540100Z"
    }
   },
   "outputs": [
    {
     "name": "stdout",
     "output_type": "stream",
     "text": [
      "Step #6 -- Inserted data and foreign key values (`AddressID`, `DemographicID`, `BusinessTypeID`, `IndustryID`) into the `Loans` table, took 0.727 seconds\n"
     ]
    }
   ],
   "source": [
    "# The index of the DataFrame is used as the 'ID' column in the Loans table\n",
    "loans = df[\n",
    "    ['LoanAmount', 'JobsReported', 'DateApproved', 'Lender', 'CD', 'AddressID', 'DemographicID', 'BusinessTypeID',\n",
    "     'IndustryID']]\n",
    "loans.reset_index(inplace=True, drop=True)\n",
    "loans.index.name = 'ID'\n",
    "loans.to_sql('Loans', conn, if_exists='append', index=True)\n",
    "\n",
    "print(f\"Step #6 -- Inserted data and foreign key values (`AddressID`, `DemographicID`, `BusinessTypeID`, `IndustryID`) \"\n",
    "      f\"into the `Loans` table, took {time.time() - start:.3f} seconds\")"
   ]
  },
  {
   "cell_type": "markdown",
   "metadata": {
    "collapsed": false
   },
   "source": [
    "### Step 7: Commit the changes and close the connection"
   ]
  },
  {
   "cell_type": "code",
   "execution_count": 16,
   "metadata": {
    "collapsed": false,
    "ExecuteTime": {
     "end_time": "2023-07-27T21:00:37.792925900Z",
     "start_time": "2023-07-27T21:00:37.774155200Z"
    }
   },
   "outputs": [
    {
     "name": "stdout",
     "output_type": "stream",
     "text": [
      "Step #7 -- Committed changes and closed the database connection\n"
     ]
    }
   ],
   "source": [
    "conn.commit()\n",
    "conn.close()\n",
    "print(f\"Step #7 -- Committed changes and closed the database connection\")"
   ]
  }
 ],
 "metadata": {
  "kernelspec": {
   "display_name": "Python 3 (ipykernel)",
   "language": "python",
   "name": "python3"
  },
  "language_info": {
   "codemirror_mode": {
    "name": "ipython",
    "version": 3
   },
   "file_extension": ".py",
   "mimetype": "text/x-python",
   "name": "python",
   "nbconvert_exporter": "python",
   "pygments_lexer": "ipython3",
   "version": "3.11.3"
  }
 },
 "nbformat": 4,
 "nbformat_minor": 4
}

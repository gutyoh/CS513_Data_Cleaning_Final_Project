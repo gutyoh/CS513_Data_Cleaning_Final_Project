{
 "cells": [
  {
   "cell_type": "markdown",
   "metadata": {
    "collapsed": false
   },
   "source": [
    "# Referential Integrity Checks\n",
    "\n",
    "In this notebook, we'll perform a series of referential integrity checks on the `PPP.db` SQLite database after the completion of the data loading process; this will help us to ensure that all relationships between records in our tables are correctly established and preserved.\n"
   ]
  },
  {
   "cell_type": "code",
   "execution_count": 8,
   "metadata": {
    "collapsed": false,
    "ExecuteTime": {
     "end_time": "2023-07-27T21:00:46.284870500Z",
     "start_time": "2023-07-27T21:00:46.236628Z"
    }
   },
   "outputs": [],
   "source": [
    "# Import necessary libraries\n",
    "import sqlite3"
   ]
  },
  {
   "cell_type": "markdown",
   "metadata": {
    "collapsed": false
   },
   "source": [
    "### Connect to the SQLite database\n",
    "\n",
    "First, we'll establish a connection to the SQLite database named `PPP.db`.\n"
   ]
  },
  {
   "cell_type": "code",
   "execution_count": 9,
   "metadata": {
    "collapsed": false,
    "ExecuteTime": {
     "end_time": "2023-07-27T21:00:46.285898Z",
     "start_time": "2023-07-27T21:00:46.241151300Z"
    }
   },
   "outputs": [],
   "source": [
    "# Connect to the SQLite database\n",
    "conn = sqlite3.connect('../../data/database/PPP.db')\n",
    "cur = conn.cursor()"
   ]
  },
  {
   "cell_type": "markdown",
   "metadata": {
    "collapsed": false
   },
   "source": [
    "### Check `AddressID` in `Loans` table\n",
    "\n",
    "We expect that all `AddressID` values in the `Loans` table correspond to existing records in the `Addresses` table.\n"
   ]
  },
  {
   "cell_type": "code",
   "execution_count": 10,
   "metadata": {
    "collapsed": false,
    "ExecuteTime": {
     "end_time": "2023-07-27T21:00:46.317353500Z",
     "start_time": "2023-07-27T21:00:46.250678400Z"
    }
   },
   "outputs": [
    {
     "name": "stdout",
     "output_type": "stream",
     "text": [
      "Number of `AddressID` referential integrity violations: 0\n"
     ]
    }
   ],
   "source": [
    "# Check that `AddressID` values in the `Loans` table corresponds to existing records in the `Addresses` table\n",
    "cur.execute(\"\"\"\n",
    "    SELECT COUNT(*) \n",
    "    FROM Loans \n",
    "    LEFT JOIN Addresses \n",
    "    ON Loans.AddressID = Addresses.ID \n",
    "    WHERE Addresses.ID IS NULL\n",
    "\"\"\")\n",
    "address_violations = cur.fetchone()[0]\n",
    "print(f\"Number of `AddressID` referential integrity violations: {address_violations}\")"
   ]
  },
  {
   "cell_type": "markdown",
   "metadata": {
    "collapsed": false
   },
   "source": [
    "### Check `DemographicID` in `Loans` table\n",
    "\n",
    "We expect that all `DemographicID` values in the `Loans` table correspond to existing records in the `Demographics` table.\n"
   ]
  },
  {
   "cell_type": "code",
   "execution_count": 11,
   "metadata": {
    "collapsed": false,
    "ExecuteTime": {
     "end_time": "2023-07-27T21:00:46.319863400Z",
     "start_time": "2023-07-27T21:00:46.263657400Z"
    }
   },
   "outputs": [
    {
     "name": "stdout",
     "output_type": "stream",
     "text": [
      "Number of `DemographicID` referential integrity violations: 0\n"
     ]
    }
   ],
   "source": [
    "# Check that `DemographicID` values in the `Loans` table corresponds to existing records in the `Demographics` table\n",
    "cur.execute(\"\"\"\n",
    "    SELECT COUNT(*) \n",
    "    FROM Loans \n",
    "    LEFT JOIN Demographics \n",
    "    ON Loans.DemographicID = Demographics.ID \n",
    "    WHERE Demographics.ID IS NULL\n",
    "\"\"\")\n",
    "demographics_violations = cur.fetchone()[0]\n",
    "print(f\"Number of `DemographicID` referential integrity violations: {demographics_violations}\")"
   ]
  },
  {
   "cell_type": "markdown",
   "metadata": {
    "collapsed": false
   },
   "source": [
    "### Check `BusinessTypeID` in `Loans` table\n",
    "\n",
    "We expect that all `BusinessTypeID` values in the `Loans` table correspond to existing records in the `BusinessTypes` table.\n"
   ]
  },
  {
   "cell_type": "code",
   "execution_count": 12,
   "metadata": {
    "collapsed": false,
    "ExecuteTime": {
     "end_time": "2023-07-27T21:00:46.319863400Z",
     "start_time": "2023-07-27T21:00:46.271583400Z"
    }
   },
   "outputs": [
    {
     "name": "stdout",
     "output_type": "stream",
     "text": [
      "Number of `BusinessTypeID` referential integrity violations: 0\n"
     ]
    }
   ],
   "source": [
    "# Check that `BusinessTypeID` values in the `Loans` table corresponds to existing records in the `BusinessTypes` table\n",
    "cur.execute(\"\"\"\n",
    "    SELECT COUNT(*) \n",
    "    FROM Loans \n",
    "    LEFT JOIN BusinessTypes \n",
    "    ON Loans.BusinessTypeID = BusinessTypes.ID \n",
    "    WHERE BusinessTypes.ID IS NULL\n",
    "\"\"\")\n",
    "business_types_violations = cur.fetchone()[0]\n",
    "print(f\"Number of `BusinessTypeID` referential integrity violations: {business_types_violations}\")"
   ]
  },
  {
   "cell_type": "markdown",
   "metadata": {
    "collapsed": false
   },
   "source": [
    "### Check `IndustryID` in `Loans` table\n",
    "\n",
    "We expect that all `IndustryID` values in the `Loans` table correspond to existing records in the `Industries` table."
   ]
  },
  {
   "cell_type": "code",
   "execution_count": 13,
   "metadata": {
    "collapsed": false,
    "ExecuteTime": {
     "end_time": "2023-07-27T21:00:46.331478400Z",
     "start_time": "2023-07-27T21:00:46.279801600Z"
    }
   },
   "outputs": [
    {
     "name": "stdout",
     "output_type": "stream",
     "text": [
      "Number of `IndustryID` referential integrity violations: 0\n"
     ]
    }
   ],
   "source": [
    "# Check that `IndustryID` in the `Loans` table corresponds to existing records in the `Industries` table\n",
    "cur.execute(\"\"\"\n",
    "    SELECT COUNT(*) \n",
    "    FROM Loans \n",
    "    LEFT JOIN Industries \n",
    "    ON Loans.IndustryID = Industries.ID \n",
    "    WHERE Industries.ID IS NULL\n",
    "\"\"\")\n",
    "industries_violations = cur.fetchone()[0]\n",
    "print(f\"Number of `IndustryID` referential integrity violations: {industries_violations}\")"
   ]
  },
  {
   "cell_type": "markdown",
   "metadata": {
    "collapsed": false
   },
   "source": [
    "### Close the connection to the SQLite database\n",
    "\n",
    "Finally, we'll close the connection to the SQLite database."
   ]
  },
  {
   "cell_type": "code",
   "execution_count": 14,
   "metadata": {
    "collapsed": false,
    "ExecuteTime": {
     "end_time": "2023-07-27T21:00:46.332499100Z",
     "start_time": "2023-07-27T21:00:46.288851100Z"
    }
   },
   "outputs": [],
   "source": [
    "# Close the connection to the SQLite database\n",
    "conn.close()"
   ]
  }
 ],
 "metadata": {
  "kernelspec": {
   "display_name": "Python 3 (ipykernel)",
   "language": "python",
   "name": "python3"
  },
  "language_info": {
   "codemirror_mode": {
    "name": "ipython",
    "version": 3
   },
   "file_extension": ".py",
   "mimetype": "text/x-python",
   "name": "python",
   "nbconvert_exporter": "python",
   "pygments_lexer": "ipython3",
   "version": "3.11.3"
  }
 },
 "nbformat": 4,
 "nbformat_minor": 4
}

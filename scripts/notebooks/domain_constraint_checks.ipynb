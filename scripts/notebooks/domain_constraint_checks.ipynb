{
 "cells": [
  {
   "cell_type": "markdown",
   "metadata": {
    "collapsed": false
   },
   "source": [
    "# Domain Constraint Checks\n",
    "\n",
    "In this notebook, we'll perform a series of domain constraint checks on the cleaned dataset `PPP-Data-up-to-150k-080820-HI-OpenRefine-PythonCleaned.csv`; this will help ensure that our data adheres to the expected rules and standards.\n"
   ]
  },
  {
   "cell_type": "code",
   "execution_count": 8,
   "metadata": {
    "collapsed": false,
    "ExecuteTime": {
     "end_time": "2023-07-27T21:00:32.169885300Z",
     "start_time": "2023-07-27T21:00:32.117171600Z"
    }
   },
   "outputs": [],
   "source": [
    "# Import necessary libraries\n",
    "import pandas as pd"
   ]
  },
  {
   "cell_type": "markdown",
   "metadata": {
    "collapsed": false
   },
   "source": [
    "## Load the data\n",
    "\n",
    "First, we'll load the cleaned dataset `PPP-Data-up-to-150k-080820-HI-OpenRefine-PythonCleaned.csv` data into a pandas DataFrame.\n"
   ]
  },
  {
   "cell_type": "code",
   "execution_count": 9,
   "metadata": {
    "collapsed": false,
    "ExecuteTime": {
     "end_time": "2023-07-27T21:00:32.223981100Z",
     "start_time": "2023-07-27T21:00:32.120693200Z"
    }
   },
   "outputs": [],
   "source": [
    "# Load the data\n",
    "df = pd.read_csv('../../data/cleaned/PPP-Data-up-to-150k-080820-HI-OpenRefine-PythonCleaned.csv')"
   ]
  },
  {
   "cell_type": "markdown",
   "metadata": {
    "collapsed": false
   },
   "source": [
    "## Check `LoanAmount` column\n",
    "\n",
    "We expect all the values in the `LoanAmount` column to be positive numbers, as these represent the amount of money that was loaned to the businesses and because it wouldn't make sense for a loan amount to be zero or negative.\n"
   ]
  },
  {
   "cell_type": "code",
   "execution_count": 10,
   "metadata": {
    "collapsed": false,
    "ExecuteTime": {
     "end_time": "2023-07-27T21:00:32.230327500Z",
     "start_time": "2023-07-27T21:00:32.192426300Z"
    }
   },
   "outputs": [
    {
     "name": "stdout",
     "output_type": "stream",
     "text": [
      "Number of `LoanAmount` column domain constraint violations: 0\n"
     ]
    }
   ],
   "source": [
    "# Check that LoanAmount is a positive number\n",
    "loan_amount_violations = df[df['LoanAmount'] <= 0].shape[0]\n",
    "print(f\"Number of `LoanAmount` column domain constraint violations: {loan_amount_violations}\")"
   ]
  },
  {
   "cell_type": "markdown",
   "metadata": {
    "collapsed": false
   },
   "source": [
    "## Check `Zip` column\n",
    "\n",
    "We expect all values in the `Zip` code column to be 5-digit numbers.\n"
   ]
  },
  {
   "cell_type": "code",
   "execution_count": 11,
   "metadata": {
    "collapsed": false,
    "ExecuteTime": {
     "end_time": "2023-07-27T21:00:32.231335600Z",
     "start_time": "2023-07-27T21:00:32.196880600Z"
    }
   },
   "outputs": [
    {
     "name": "stdout",
     "output_type": "stream",
     "text": [
      "Number of `Zip` column domain constraint violations: 0\n"
     ]
    }
   ],
   "source": [
    "# Check that the Zip column only contains 5-digit numbers\n",
    "zip_violations = df[~df['Zip'].astype(str).str.match(r'^\\d{5}$')].shape[0]\n",
    "print(f\"Number of `Zip` column domain constraint violations: {zip_violations}\")"
   ]
  },
  {
   "cell_type": "markdown",
   "metadata": {
    "collapsed": false
   },
   "source": [
    "## Check `JobsReported` column\n",
    "\n",
    "We expect `JobsReported` to be a non-negative number since this field represents the number of jobs that were reported by the business when applying for the loan and the number of jobs cannot be negative because it's not possible for a business to have a negative amount of jobs.\n"
   ]
  },
  {
   "cell_type": "code",
   "execution_count": 12,
   "metadata": {
    "collapsed": false,
    "ExecuteTime": {
     "end_time": "2023-07-27T21:00:32.232341200Z",
     "start_time": "2023-07-27T21:00:32.223981100Z"
    }
   },
   "outputs": [
    {
     "name": "stdout",
     "output_type": "stream",
     "text": [
      "Number of `JobsReported` column domain constraint violations: 0\n"
     ]
    }
   ],
   "source": [
    "# Check that JobsReported is a non-negative number\n",
    "jobs_reported_violations = df[df['JobsReported'] < 0].shape[0]\n",
    "print(f\"Number of `JobsReported` column domain constraint violations: {jobs_reported_violations}\")\n"
   ]
  },
  {
   "cell_type": "markdown",
   "metadata": {
    "collapsed": false
   },
   "source": [
    "## Check `DateApproved` column\n",
    "\n",
    "We expect the `DateApproved` column values to follow a valid ISO date format (YYYY-MM-DDTHH:MM:SSZ) as we standardized these date values during our OpenRefine operations to ensure consistency and ease of use.\n"
   ]
  },
  {
   "cell_type": "code",
   "execution_count": 13,
   "metadata": {
    "collapsed": false,
    "ExecuteTime": {
     "end_time": "2023-07-27T21:00:32.309666Z",
     "start_time": "2023-07-27T21:00:32.230327500Z"
    }
   },
   "outputs": [
    {
     "name": "stdout",
     "output_type": "stream",
     "text": [
      "Number of `DateApproved` column domain constraint violations: 0\n"
     ]
    }
   ],
   "source": [
    "# Check that DateApproved follows a valid date ISO date format:\n",
    "date_approved_violations = df[~df['DateApproved'].astype(str).str.match(\n",
    "    r'^\\d{4}-\\d{2}-\\d{2}T\\d{2}:\\d{2}:\\d{2}Z$')].shape[0]\n",
    "print(f\"Number of `DateApproved` column domain constraint violations: {date_approved_violations}\")"
   ]
  },
  {
   "cell_type": "markdown",
   "metadata": {
    "collapsed": false
   },
   "source": [
    "## Check Missing Values\n",
    "\n",
    "Finally, we check the missing values in ALL the columns of the cleaned dataset.\n",
    "\n",
    "Missing values in columns might indicate data entry errors, or they might occur when certain information is not applicable or not available. Regardless of the reasons, it's crucial to identify these missing values and decide how to handle them appropriately in the subsequent data analysis.\n",
    "\n",
    "Missing values can occur for various reasons depending on the nature of the data and the context. For instance, missing values in the `JobsReported` column could arise if some businesses did not report any jobs. This could occur for several reasons. For instance, some businesses might not have any employees, or they might not have been comfortable reporting this information.\n",
    "\n",
    "For the `NAICSCode` and `NAICSTitle` columns, missing values might indicate that the business did not classify its industry under any of the NAICS codes. This could be due to the business owner not knowing their appropriate NAICS code, or the business not fitting neatly into any of the predefined NAICS categories."
   ]
  },
  {
   "cell_type": "code",
   "execution_count": 14,
   "outputs": [
    {
     "name": "stdout",
     "output_type": "stream",
     "text": [
      "Number of missing values in each column:\n",
      "LoanAmount          0\n",
      "City                0\n",
      "State               0\n",
      "Zip                 0\n",
      "NAICSCode         105\n",
      "BusinessType        0\n",
      "RaceEthnicity       0\n",
      "Gender              0\n",
      "Veteran             0\n",
      "NonProfit           0\n",
      "JobsReported     2446\n",
      "DateApproved        0\n",
      "Lender              0\n",
      "CD                  0\n",
      "NAICSTitle        105\n",
      "dtype: int64\n"
     ]
    }
   ],
   "source": [
    "# Check for missing values in all columns\n",
    "missing_values = df.isna().sum()\n",
    "\n",
    "print(\"Number of missing values in each column:\")\n",
    "print(missing_values)"
   ],
   "metadata": {
    "collapsed": false,
    "ExecuteTime": {
     "end_time": "2023-07-27T21:00:34.347253400Z",
     "start_time": "2023-07-27T21:00:32.250539700Z"
    }
   }
  }
 ],
 "metadata": {
  "kernelspec": {
   "display_name": "Python 3 (ipykernel)",
   "language": "python",
   "name": "python3"
  },
  "language_info": {
   "codemirror_mode": {
    "name": "ipython",
    "version": 3
   },
   "file_extension": ".py",
   "mimetype": "text/x-python",
   "name": "python",
   "nbconvert_exporter": "python",
   "pygments_lexer": "ipython3",
   "version": "3.11.3"
  }
 },
 "nbformat": 4,
 "nbformat_minor": 4
}
